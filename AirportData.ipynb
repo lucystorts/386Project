{
 "cells": [
  {
   "cell_type": "markdown",
   "metadata": {},
   "source": [
    "##### 386 Project\n",
    "Lucy Storts    \n",
    "Stat 386   \n",
    "11/3/23   \n",
    "\n",
    "In this part, I am working on using an API to aquire my data. "
   ]
  },
  {
   "cell_type": "code",
   "execution_count": 2,
   "metadata": {},
   "outputs": [],
   "source": [
    "import pandas as pd\n",
    "import numpy as np\n",
    "import requests\n",
    "import re\n",
    "import urllib.parse\n",
    "import matplotlib.pyplot as plt             \n",
    "import seaborn as sns\n",
    "import json\n",
    "from datetime import datetime"
   ]
  },
  {
   "cell_type": "markdown",
   "metadata": {},
   "source": [
    "I want to explore flight data, esp. data about cross country trips because I flew a lot from Utah to Ohio all through college.    \n",
    "I wonder which time of year has cheapest flights, when the most flights occur, maybe how accurate the actual flight paths were... \n"
   ]
  },
  {
   "cell_type": "markdown",
   "metadata": {},
   "source": [
    "I found this API: https://airportdb.io/#\n",
    "\n",
    "To fetch airport by ICAO code use the following endpoint by including the ICAO code and API token"
   ]
  },
  {
   "cell_type": "code",
   "execution_count": 14,
   "metadata": {},
   "outputs": [],
   "source": [
    "url_template = \"https://airportdb.io/api/v1/airport/{ICAO}?apiToken={apiToken}\""
   ]
  },
  {
   "cell_type": "code",
   "execution_count": 15,
   "metadata": {},
   "outputs": [],
   "source": [
    "with open('AirportDBToken.txt', 'r') as file:\n",
    "    apiToken = file.read()\n",
    "\n",
    "icao = 'KCMH'"
   ]
  },
  {
   "cell_type": "markdown",
   "metadata": {},
   "source": [
    "Columbus -  CMH   \n",
    "John Glenn Columbus International Airport (IATA: CMH, ICAO: KCMH, FAA LID: CMH)    \n",
    " \n",
    "Salt Lake City - SLC    \n",
    "Salt Lake City International Airport (IATA: SLC, ICAO: KSLC, FAA LID: SLC)    "
   ]
  },
  {
   "cell_type": "code",
   "execution_count": 16,
   "metadata": {},
   "outputs": [
    {
     "name": "stdout",
     "output_type": "stream",
     "text": [
      "True\n"
     ]
    }
   ],
   "source": [
    "url = url_template.format(ICAO=icao, apiToken=apiToken)\n",
    "\n",
    "r = requests.get(url)\n",
    "print(r.ok)\n",
    "\n"
   ]
  },
  {
   "cell_type": "code",
   "execution_count": 17,
   "metadata": {},
   "outputs": [
    {
     "name": "stdout",
     "output_type": "stream",
     "text": [
      "https://airportdb.io/api/v1/airport/KCMH?apiToken=bdd5ec415a8cced42d4d9e1c59100a65478581a386edf21f2b09721d9a926516426147fae42e6f1e24cf70dae4b9e5df\n"
     ]
    }
   ],
   "source": [
    "print(r.url)"
   ]
  },
  {
   "cell_type": "code",
   "execution_count": 19,
   "metadata": {},
   "outputs": [
    {
     "data": {
      "text/html": [
       "<div>\n",
       "<style scoped>\n",
       "    .dataframe tbody tr th:only-of-type {\n",
       "        vertical-align: middle;\n",
       "    }\n",
       "\n",
       "    .dataframe tbody tr th {\n",
       "        vertical-align: top;\n",
       "    }\n",
       "\n",
       "    .dataframe thead th {\n",
       "        text-align: right;\n",
       "    }\n",
       "</style>\n",
       "<table border=\"1\" class=\"dataframe\">\n",
       "  <thead>\n",
       "    <tr style=\"text-align: right;\">\n",
       "      <th></th>\n",
       "      <th>ident</th>\n",
       "      <th>type</th>\n",
       "      <th>name</th>\n",
       "      <th>latitude_deg</th>\n",
       "      <th>longitude_deg</th>\n",
       "      <th>elevation_ft</th>\n",
       "      <th>continent</th>\n",
       "      <th>iso_country</th>\n",
       "      <th>iso_region</th>\n",
       "      <th>municipality</th>\n",
       "      <th>...</th>\n",
       "      <th>region.id</th>\n",
       "      <th>region.code</th>\n",
       "      <th>region.local_code</th>\n",
       "      <th>region.name</th>\n",
       "      <th>region.continent</th>\n",
       "      <th>region.iso_country</th>\n",
       "      <th>region.wikipedia_link</th>\n",
       "      <th>region.keywords</th>\n",
       "      <th>station.icao_code</th>\n",
       "      <th>station.distance</th>\n",
       "    </tr>\n",
       "  </thead>\n",
       "  <tbody>\n",
       "    <tr>\n",
       "      <th>0</th>\n",
       "      <td>KCMH</td>\n",
       "      <td>large_airport</td>\n",
       "      <td>John Glenn Columbus International Airport</td>\n",
       "      <td>39.998001</td>\n",
       "      <td>-82.891899</td>\n",
       "      <td>815</td>\n",
       "      <td>NA</td>\n",
       "      <td>US</td>\n",
       "      <td>US-OH</td>\n",
       "      <td>Columbus</td>\n",
       "      <td>...</td>\n",
       "      <td>306111</td>\n",
       "      <td>US-OH</td>\n",
       "      <td>OH</td>\n",
       "      <td>Ohio</td>\n",
       "      <td>NA</td>\n",
       "      <td>US</td>\n",
       "      <td>https://en.wikipedia.org/wiki/Ohio</td>\n",
       "      <td></td>\n",
       "      <td>KCMH</td>\n",
       "      <td>0</td>\n",
       "    </tr>\n",
       "  </tbody>\n",
       "</table>\n",
       "<p>1 rows × 37 columns</p>\n",
       "</div>"
      ],
      "text/plain": [
       "  ident           type                                       name  \\\n",
       "0  KCMH  large_airport  John Glenn Columbus International Airport   \n",
       "\n",
       "   latitude_deg  longitude_deg elevation_ft continent iso_country iso_region  \\\n",
       "0     39.998001     -82.891899          815        NA          US      US-OH   \n",
       "\n",
       "  municipality  ... region.id region.code region.local_code region.name  \\\n",
       "0     Columbus  ...    306111       US-OH                OH        Ohio   \n",
       "\n",
       "  region.continent region.iso_country               region.wikipedia_link  \\\n",
       "0               NA                 US  https://en.wikipedia.org/wiki/Ohio   \n",
       "\n",
       "  region.keywords station.icao_code station.distance  \n",
       "0                              KCMH                0  \n",
       "\n",
       "[1 rows x 37 columns]"
      ]
     },
     "execution_count": 19,
     "metadata": {},
     "output_type": "execute_result"
    }
   ],
   "source": [
    "pd.json_normalize(r.json())"
   ]
  }
 ],
 "metadata": {
  "kernelspec": {
   "display_name": "stat386",
   "language": "python",
   "name": "python3"
  },
  "language_info": {
   "codemirror_mode": {
    "name": "ipython",
    "version": 3
   },
   "file_extension": ".py",
   "mimetype": "text/x-python",
   "name": "python",
   "nbconvert_exporter": "python",
   "pygments_lexer": "ipython3",
   "version": "3.10.12"
  }
 },
 "nbformat": 4,
 "nbformat_minor": 2
}
