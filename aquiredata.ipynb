{
 "cells": [
  {
   "cell_type": "markdown",
   "metadata": {},
   "source": [
    "##### 386 Project\n",
    "Lucy Storts    \n",
    "Stat 386   \n",
    "11/3/23   \n",
    "\n",
    "In this part, I am working on using an API to aquire my data. "
   ]
  },
  {
   "cell_type": "code",
   "execution_count": 1,
   "metadata": {},
   "outputs": [],
   "source": [
    "import pandas as pd\n",
    "import numpy as np\n",
    "import requests\n",
    "import re\n",
    "import urllib.parse\n",
    "import matplotlib.pyplot as plt             \n",
    "import seaborn as sns\n",
    "import json\n",
    "from datetime import datetime"
   ]
  },
  {
   "cell_type": "markdown",
   "metadata": {},
   "source": [
    "I want to explore flight data, esp. data about cross country trips because I flew a lot from Utah to Ohio all through college.    \n",
    "I wonder which time of year has cheapest flights, when the most flights occur, maybe how accurate the actual flight paths were... \n"
   ]
  },
  {
   "cell_type": "markdown",
   "metadata": {},
   "source": [
    "I found this API: https://airlabs.co/\n",
    "\n",
    "They offer data on real-time flights and aviation databases for routes and different airlines. "
   ]
  },
  {
   "cell_type": "code",
   "execution_count": 2,
   "metadata": {},
   "outputs": [],
   "source": [
    "base_url = \t'https://airlabs.co/api/v9/'\n",
    "endpoint = 'airports'\n",
    "\n",
    "url1 = base_url + endpoint"
   ]
  },
  {
   "cell_type": "code",
   "execution_count": 3,
   "metadata": {},
   "outputs": [],
   "source": [
    "with open('AirLabsAPI.txt', 'r') as file:\n",
    "    apikey = file.read()"
   ]
  },
  {
   "cell_type": "markdown",
   "metadata": {},
   "source": [
    "Some of the parameters I want to use are:  \n",
    "\n",
    "country_code   -     US   \n",
    "iata_code       -       CMH"
   ]
  },
  {
   "cell_type": "code",
   "execution_count": 4,
   "metadata": {},
   "outputs": [
    {
     "name": "stdout",
     "output_type": "stream",
     "text": [
      "True\n"
     ]
    }
   ],
   "source": [
    "# set up params\n",
    "param1 = {'api_key': 'apikey',\n",
    "          'country_code': 'US',\n",
    "          'iata_code': 'CMH'}\n",
    "\n",
    "r1 = requests.get(url1, params=param1)\n",
    "print(r1.ok)\n",
    "\n"
   ]
  },
  {
   "cell_type": "code",
   "execution_count": 5,
   "metadata": {},
   "outputs": [
    {
     "name": "stdout",
     "output_type": "stream",
     "text": [
      "https://airlabs.co/api/v9/airports?api_key=apikey&country_code=US&iata_code=CMH\n"
     ]
    }
   ],
   "source": [
    "print(r1.url)"
   ]
  },
  {
   "cell_type": "code",
   "execution_count": 6,
   "metadata": {},
   "outputs": [
    {
     "data": {
      "text/plain": [
       "{'error': {'message': 'Unknown api_key', 'code': 'unknown_api_key'},\n",
       " 'terms': \"Unauthorized access is prohibited and punishable by law. \\nReselling data 'As Is' without AirLabs.Co permission is strictly prohibited. \\nFull terms on https://airlabs.co/. \\nContact us info@airlabs.co\"}"
      ]
     },
     "execution_count": 6,
     "metadata": {},
     "output_type": "execute_result"
    }
   ],
   "source": [
    "r1.json()"
   ]
  },
  {
   "cell_type": "markdown",
   "metadata": {},
   "source": [
    "Okay, instead of airports data base, try routes for CMH to SLC and SLC to CMH \n",
    "\n",
    "api_key\trequired    -\tYour API Key from acccount dashboard.   \n",
    "dep_iata    -\trequired\t-   Filtering by departure Airport IATA code.   \n",
    "\n",
    "Columbus -  CMH   \n",
    "John Glenn Columbus International Airport (IATA: CMH, ICAO: KCMH, FAA LID: CMH)     \n",
    "Salt Lake City - SLC    \n",
    "Salt Lake City International Airport (IATA: SLC, ICAO: KSLC, FAA LID: SLC)     \n",
    "\n",
    "dep_icao    -\trequired\t-   Filtering by departure Airport ICAO code.   \n",
    "\n",
    "\n",
    "arr_iata    -\trequired\t-   Filtering by arrival Airport IATA code.   \n",
    "arr_icao    -\trequired\t-   Filtering by arrival Airport ICAO code.   \n",
    "\n",
    "\n",
    "airline_icao    -\trequired\t-   Filtering by Airline ICAO code.   \n",
    "airline_iata    -\trequired\t-   Filtering by Airline IATA code. \n",
    "\n",
    "SOUTHWEST    \n",
    "IATA\t- WN   \n",
    "ICAO\t- SWA\t"
   ]
  },
  {
   "cell_type": "code",
   "execution_count": 7,
   "metadata": {},
   "outputs": [],
   "source": [
    "endpoint = 'routes'\n",
    "url2 = base_url + endpoint"
   ]
  },
  {
   "cell_type": "code",
   "execution_count": 8,
   "metadata": {},
   "outputs": [
    {
     "name": "stdout",
     "output_type": "stream",
     "text": [
      "True\n"
     ]
    }
   ],
   "source": [
    "# set up params\n",
    "param2 = {'api_key': 'apikey',\n",
    "          'dep_iata': 'CMH',\n",
    "          'dep_icao': 'KCMH',\n",
    "          'arr_iata': 'SLC',\n",
    "          'arr_icao': 'KSLC',\n",
    "          'airline_icao': 'SWA',\n",
    "          'airline_iata': 'WN'}\n",
    "\n",
    "r2 = requests.get(url2, params=param2)\n",
    "print(r2.ok)"
   ]
  },
  {
   "cell_type": "code",
   "execution_count": 9,
   "metadata": {},
   "outputs": [
    {
     "data": {
      "text/html": [
       "<div>\n",
       "<style scoped>\n",
       "    .dataframe tbody tr th:only-of-type {\n",
       "        vertical-align: middle;\n",
       "    }\n",
       "\n",
       "    .dataframe tbody tr th {\n",
       "        vertical-align: top;\n",
       "    }\n",
       "\n",
       "    .dataframe thead th {\n",
       "        text-align: right;\n",
       "    }\n",
       "</style>\n",
       "<table border=\"1\" class=\"dataframe\">\n",
       "  <thead>\n",
       "    <tr style=\"text-align: right;\">\n",
       "      <th></th>\n",
       "      <th>terms</th>\n",
       "      <th>error.message</th>\n",
       "      <th>error.code</th>\n",
       "    </tr>\n",
       "  </thead>\n",
       "  <tbody>\n",
       "    <tr>\n",
       "      <th>0</th>\n",
       "      <td>Unauthorized access is prohibited and punishab...</td>\n",
       "      <td>Unknown api_key</td>\n",
       "      <td>unknown_api_key</td>\n",
       "    </tr>\n",
       "  </tbody>\n",
       "</table>\n",
       "</div>"
      ],
      "text/plain": [
       "                                               terms    error.message  \\\n",
       "0  Unauthorized access is prohibited and punishab...  Unknown api_key   \n",
       "\n",
       "        error.code  \n",
       "0  unknown_api_key  "
      ]
     },
     "execution_count": 9,
     "metadata": {},
     "output_type": "execute_result"
    }
   ],
   "source": [
    "pd.json_normalize(r2.json())"
   ]
  },
  {
   "cell_type": "markdown",
   "metadata": {},
   "source": []
  }
 ],
 "metadata": {
  "kernelspec": {
   "display_name": "stat386",
   "language": "python",
   "name": "python3"
  },
  "language_info": {
   "codemirror_mode": {
    "name": "ipython",
    "version": 3
   },
   "file_extension": ".py",
   "mimetype": "text/x-python",
   "name": "python",
   "nbconvert_exporter": "python",
   "pygments_lexer": "ipython3",
   "version": "3.10.12"
  }
 },
 "nbformat": 4,
 "nbformat_minor": 2
}
