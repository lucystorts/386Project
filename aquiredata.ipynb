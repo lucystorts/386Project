{
 "cells": [
  {
   "cell_type": "markdown",
   "metadata": {},
   "source": [
    "##### 386 Project\n",
    "Lucy Storts    \n",
    "Stat 386   \n",
    "11/3/23   \n",
    "\n",
    "In this part, I am working on using an API to aquire my data. "
   ]
  },
  {
   "cell_type": "code",
   "execution_count": null,
   "metadata": {},
   "outputs": [],
   "source": []
  }
 ],
 "metadata": {
  "language_info": {
   "name": "python"
  }
 },
 "nbformat": 4,
 "nbformat_minor": 2
}
