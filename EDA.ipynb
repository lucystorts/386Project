{
 "cells": [
  {
   "cell_type": "markdown",
   "metadata": {},
   "source": [
    "### 386 Project\n",
    "\n",
    "EDA for my curated .csv table: 2022Airports.csv\n",
    "\n",
    "Lucy Storts \n",
    "\n",
    "Stat 386 - BYU - Dr. Tass"
   ]
  },
  {
   "cell_type": "markdown",
   "metadata": {},
   "source": [
    "### Libraries"
   ]
  },
  {
   "cell_type": "code",
   "execution_count": 6,
   "metadata": {},
   "outputs": [],
   "source": [
    "import pandas as pd\n",
    "import numpy as np\n",
    "import requests\n",
    "import re\n",
    "import urllib.parse\n",
    "import matplotlib.pyplot as plt             \n",
    "import seaborn as sns\n",
    "import json\n",
    "from datetime import datetime"
   ]
  },
  {
   "cell_type": "code",
   "execution_count": 7,
   "metadata": {},
   "outputs": [],
   "source": [
    "partialpath = '/Users/lucystorts/Desktop/BYU/Stat386/386Project/'"
   ]
  },
  {
   "cell_type": "code",
   "execution_count": 8,
   "metadata": {},
   "outputs": [
    {
     "data": {
      "text/html": [
       "<div>\n",
       "<style scoped>\n",
       "    .dataframe tbody tr th:only-of-type {\n",
       "        vertical-align: middle;\n",
       "    }\n",
       "\n",
       "    .dataframe tbody tr th {\n",
       "        vertical-align: top;\n",
       "    }\n",
       "\n",
       "    .dataframe thead th {\n",
       "        text-align: right;\n",
       "    }\n",
       "</style>\n",
       "<table border=\"1\" class=\"dataframe\">\n",
       "  <thead>\n",
       "    <tr style=\"text-align: right;\">\n",
       "      <th></th>\n",
       "      <th>2022 Rank</th>\n",
       "      <th>Airport</th>\n",
       "      <th>ICAO</th>\n",
       "      <th>2022 Enplaned Passengers</th>\n",
       "      <th>2022 Originating Domestic Passengers</th>\n",
       "      <th>Latitude</th>\n",
       "      <th>Longitude</th>\n",
       "      <th>Elevation</th>\n",
       "      <th>Flights Per Year</th>\n",
       "      <th>Delays</th>\n",
       "      <th>Canceled</th>\n",
       "      <th>Avg. Delay (Mins)</th>\n",
       "      <th>Security Delay (Mins)</th>\n",
       "    </tr>\n",
       "  </thead>\n",
       "  <tbody>\n",
       "    <tr>\n",
       "      <th>0</th>\n",
       "      <td>1</td>\n",
       "      <td>ATL</td>\n",
       "      <td>KATL</td>\n",
       "      <td>45372100.0</td>\n",
       "      <td>1088364.0</td>\n",
       "      <td>32.896801</td>\n",
       "      <td>-97.038002</td>\n",
       "      <td>607.0</td>\n",
       "      <td>362,713</td>\n",
       "      <td>0.168</td>\n",
       "      <td>0.007</td>\n",
       "      <td>11.1</td>\n",
       "      <td>0.06</td>\n",
       "    </tr>\n",
       "    <tr>\n",
       "      <th>1</th>\n",
       "      <td>2</td>\n",
       "      <td>DFW</td>\n",
       "      <td>KDFW</td>\n",
       "      <td>35329400.0</td>\n",
       "      <td>859264.0</td>\n",
       "      <td>39.861698</td>\n",
       "      <td>-104.672997</td>\n",
       "      <td>5431.0</td>\n",
       "      <td>278,828</td>\n",
       "      <td>0.223</td>\n",
       "      <td>0.028</td>\n",
       "      <td>15.7</td>\n",
       "      <td>0.03</td>\n",
       "    </tr>\n",
       "    <tr>\n",
       "      <th>2</th>\n",
       "      <td>3</td>\n",
       "      <td>DEN</td>\n",
       "      <td>KDEN</td>\n",
       "      <td>33749900.0</td>\n",
       "      <td>1138192.0</td>\n",
       "      <td>41.978600</td>\n",
       "      <td>-87.904800</td>\n",
       "      <td>672.0</td>\n",
       "      <td>230,693</td>\n",
       "      <td>0.226</td>\n",
       "      <td>0.020</td>\n",
       "      <td>16.0</td>\n",
       "      <td>0.04</td>\n",
       "    </tr>\n",
       "  </tbody>\n",
       "</table>\n",
       "</div>"
      ],
      "text/plain": [
       "   2022 Rank Airport  ICAO  2022 Enplaned Passengers  \\\n",
       "0          1     ATL  KATL                45372100.0   \n",
       "1          2     DFW  KDFW                35329400.0   \n",
       "2          3     DEN  KDEN                33749900.0   \n",
       "\n",
       "   2022 Originating Domestic Passengers   Latitude   Longitude  Elevation  \\\n",
       "0                             1088364.0  32.896801  -97.038002      607.0   \n",
       "1                              859264.0  39.861698 -104.672997     5431.0   \n",
       "2                             1138192.0  41.978600  -87.904800      672.0   \n",
       "\n",
       "  Flights Per Year  Delays  Canceled  Avg. Delay (Mins)  Security Delay (Mins)  \n",
       "0          362,713   0.168     0.007               11.1                   0.06  \n",
       "1          278,828   0.223     0.028               15.7                   0.03  \n",
       "2          230,693   0.226     0.020               16.0                   0.04  "
      ]
     },
     "execution_count": 8,
     "metadata": {},
     "output_type": "execute_result"
    }
   ],
   "source": [
    "airports = pd.read_csv(partialpath+'2022Airports.csv')\n",
    "airports.head(3)"
   ]
  },
  {
   "cell_type": "markdown",
   "metadata": {},
   "source": [
    "### EDA \n",
    "\n",
    "In this EDA, I want to exlpore the relationship bewteen "
   ]
  }
 ],
 "metadata": {
  "kernelspec": {
   "display_name": "stat386",
   "language": "python",
   "name": "python3"
  },
  "language_info": {
   "codemirror_mode": {
    "name": "ipython",
    "version": 3
   },
   "file_extension": ".py",
   "mimetype": "text/x-python",
   "name": "python",
   "nbconvert_exporter": "python",
   "pygments_lexer": "ipython3",
   "version": "3.10.12"
  }
 },
 "nbformat": 4,
 "nbformat_minor": 2
}
