{
 "cells": [
  {
   "cell_type": "markdown",
   "metadata": {},
   "source": [
    "### 386 Project\n",
    "\n",
    "EDA for my curated .csv table: 2022Airports.csv\n",
    "\n",
    "Lucy Storts \n",
    "\n",
    "Stat 386 - BYU - Dr. Tass"
   ]
  },
  {
   "cell_type": "markdown",
   "metadata": {},
   "source": [
    "### Libraries"
   ]
  },
  {
   "cell_type": "code",
   "execution_count": 14,
   "metadata": {},
   "outputs": [],
   "source": [
    "import pandas as pd\n",
    "import numpy as np\n",
    "import requests\n",
    "import re\n",
    "import urllib.parse\n",
    "import matplotlib.pyplot as plt             \n",
    "import seaborn as sns\n",
    "import json\n",
    "from datetime import datetime\n",
    "import matplotlib as mpl\n",
    "import plotly.express as px\n",
    "import statsmodels.api as sm\n",
    "%matplotlib inline"
   ]
  },
  {
   "cell_type": "code",
   "execution_count": 2,
   "metadata": {},
   "outputs": [],
   "source": [
    "partialpath = '/Users/lucystorts/Desktop/BYU/Stat386/386Project/'"
   ]
  },
  {
   "cell_type": "code",
   "execution_count": 3,
   "metadata": {},
   "outputs": [
    {
     "data": {
      "text/html": [
       "<div>\n",
       "<style scoped>\n",
       "    .dataframe tbody tr th:only-of-type {\n",
       "        vertical-align: middle;\n",
       "    }\n",
       "\n",
       "    .dataframe tbody tr th {\n",
       "        vertical-align: top;\n",
       "    }\n",
       "\n",
       "    .dataframe thead th {\n",
       "        text-align: right;\n",
       "    }\n",
       "</style>\n",
       "<table border=\"1\" class=\"dataframe\">\n",
       "  <thead>\n",
       "    <tr style=\"text-align: right;\">\n",
       "      <th></th>\n",
       "      <th>2022 Rank</th>\n",
       "      <th>Airport</th>\n",
       "      <th>IATA</th>\n",
       "      <th>ICAO</th>\n",
       "      <th>2022 Enplaned Passengers</th>\n",
       "      <th>2022 Originating Domestic Passengers</th>\n",
       "      <th>Flights Per Year</th>\n",
       "      <th>Delays</th>\n",
       "      <th>Canceled</th>\n",
       "      <th>Avg. Delay (Mins)</th>\n",
       "      <th>Security Delay (Mins)</th>\n",
       "      <th>Latitude</th>\n",
       "      <th>Longitude</th>\n",
       "      <th>State</th>\n",
       "      <th>Elevation</th>\n",
       "    </tr>\n",
       "  </thead>\n",
       "  <tbody>\n",
       "    <tr>\n",
       "      <th>0</th>\n",
       "      <td>1</td>\n",
       "      <td>Hartsfield Jackson Atlanta International Airport</td>\n",
       "      <td>ATL</td>\n",
       "      <td>KATL</td>\n",
       "      <td>45372100.0</td>\n",
       "      <td>1088364</td>\n",
       "      <td>362,713</td>\n",
       "      <td>0.168</td>\n",
       "      <td>0.007</td>\n",
       "      <td>11.1</td>\n",
       "      <td>0.06</td>\n",
       "      <td>33.636700</td>\n",
       "      <td>-84.428101</td>\n",
       "      <td>Georgia</td>\n",
       "      <td>1026</td>\n",
       "    </tr>\n",
       "    <tr>\n",
       "      <th>1</th>\n",
       "      <td>2</td>\n",
       "      <td>Dallas Fort Worth International Airport</td>\n",
       "      <td>DFW</td>\n",
       "      <td>KDFW</td>\n",
       "      <td>35329400.0</td>\n",
       "      <td>859264</td>\n",
       "      <td>278,828</td>\n",
       "      <td>0.223</td>\n",
       "      <td>0.028</td>\n",
       "      <td>15.7</td>\n",
       "      <td>0.03</td>\n",
       "      <td>32.896801</td>\n",
       "      <td>-97.038002</td>\n",
       "      <td>Texas</td>\n",
       "      <td>607</td>\n",
       "    </tr>\n",
       "    <tr>\n",
       "      <th>2</th>\n",
       "      <td>3</td>\n",
       "      <td>Denver International Airport</td>\n",
       "      <td>DEN</td>\n",
       "      <td>KDEN</td>\n",
       "      <td>33749900.0</td>\n",
       "      <td>1138192</td>\n",
       "      <td>230,693</td>\n",
       "      <td>0.226</td>\n",
       "      <td>0.020</td>\n",
       "      <td>16.0</td>\n",
       "      <td>0.04</td>\n",
       "      <td>39.861698</td>\n",
       "      <td>-104.672997</td>\n",
       "      <td>Colorado</td>\n",
       "      <td>5431</td>\n",
       "    </tr>\n",
       "  </tbody>\n",
       "</table>\n",
       "</div>"
      ],
      "text/plain": [
       "   2022 Rank                                           Airport IATA  ICAO  \\\n",
       "0          1  Hartsfield Jackson Atlanta International Airport  ATL  KATL   \n",
       "1          2           Dallas Fort Worth International Airport  DFW  KDFW   \n",
       "2          3                      Denver International Airport  DEN  KDEN   \n",
       "\n",
       "   2022 Enplaned Passengers  2022 Originating Domestic Passengers  \\\n",
       "0                45372100.0                               1088364   \n",
       "1                35329400.0                                859264   \n",
       "2                33749900.0                               1138192   \n",
       "\n",
       "  Flights Per Year  Delays  Canceled  Avg. Delay (Mins)  \\\n",
       "0          362,713   0.168     0.007               11.1   \n",
       "1          278,828   0.223     0.028               15.7   \n",
       "2          230,693   0.226     0.020               16.0   \n",
       "\n",
       "   Security Delay (Mins)   Latitude   Longitude     State  Elevation  \n",
       "0                   0.06  33.636700  -84.428101   Georgia       1026  \n",
       "1                   0.03  32.896801  -97.038002     Texas        607  \n",
       "2                   0.04  39.861698 -104.672997  Colorado       5431  "
      ]
     },
     "execution_count": 3,
     "metadata": {},
     "output_type": "execute_result"
    }
   ],
   "source": [
    "airports = pd.read_csv(partialpath+'2022Airports.csv')\n",
    "airports.head(3)"
   ]
  },
  {
   "cell_type": "markdown",
   "metadata": {},
   "source": [
    "### EDA \n",
    "\n",
    "In this EDA, I want to exlpore the relationship bewteen *2022 Delays* proportion and *Elevation* metric using scatterplot and possibly regression. \n",
    "\n",
    "Then, I want to compare **all airports** by their *Avg. Delay (Mins)* in a bar chart, organized by descending order, not rank. \n",
    "\n",
    "**Palette: Cividis**\n",
    "\n",
    ">px.colors.sequential.Cividis\n",
    "\n",
    ">Colors: ['#00204e', '#254b7f', '#4b7b9b', '#7b9a7f', '#b4cc8f']"
   ]
  },
  {
   "cell_type": "markdown",
   "metadata": {},
   "source": [
    "### Scatterplot"
   ]
  },
  {
   "cell_type": "code",
   "execution_count": 37,
   "metadata": {},
   "outputs": [
    {
     "data": {
      "application/vnd.plotly.v1+json": {
       "config": {
        "plotlyServerURL": "https://plot.ly"
       },
       "data": [
        {
         "customdata": [
          [
           "Hartsfield Jackson Atlanta International Airport",
           "ATL",
           1
          ],
          [
           "Dallas Fort Worth International Airport",
           "DFW",
           2
          ],
          [
           "Denver International Airport",
           "DEN",
           3
          ],
          [
           "Chicago O'Hare International Airport",
           "ORD",
           4
          ],
          [
           "Los Angeles International Airport",
           "LAX",
           5
          ],
          [
           "John F Kennedy International Airport",
           "JFK",
           6
          ],
          [
           "McCarran International Airport",
           "LAS",
           7
          ],
          [
           "Orlando International Airport",
           "MCO",
           8
          ],
          [
           "Miami International Airport",
           "MIA",
           9
          ],
          [
           "Charlotte Douglas International Airport",
           "CLT",
           10
          ],
          [
           "Seattle Tacoma International Airport",
           "SEA",
           11
          ],
          [
           "Phoenix Sky Harbor International Airport",
           "PHX",
           12
          ],
          [
           "Newark Liberty International Airport",
           "EWR",
           13
          ],
          [
           "San Francisco International Airport",
           "SFO",
           14
          ],
          [
           "George Bush Intercontinental Houston Airport",
           "IAH",
           15
          ],
          [
           "Logan International Airport",
           "BOS",
           16
          ],
          [
           "Fort Lauderdale Hollywood International Airport",
           "FLL",
           17
          ],
          [
           "Minneapolis–Saint Paul International Airport / Wold–Chamberlain Field",
           "MSP",
           18
          ],
          [
           "La Guardia Airport",
           "LGA",
           19
          ],
          [
           "Detroit Metropolitan Wayne County Airport",
           "DTW",
           20
          ],
          [
           "Philadelphia International Airport",
           "PHL",
           21
          ],
          [
           "Salt Lake City International Airport",
           "SLC",
           22
          ],
          [
           "Ronald Reagan Washington National Airport",
           "DCA",
           23
          ],
          [
           "San Diego International Airport",
           "SAN",
           24
          ],
          [
           "Baltimore/Washington International Thurgood Marshall Airport",
           "BWI",
           25
          ],
          [
           "Tampa International Airport",
           "TPA",
           26
          ],
          [
           "Austin Bergstrom International Airport",
           "AUS",
           27
          ],
          [
           "Washington Dulles International Airport",
           "IAD",
           28
          ],
          [
           "Nashville International Airport",
           "BNA",
           29
          ],
          [
           "Chicago Midway International Airport",
           "MDW",
           30
          ],
          [
           "Daniel K Inouye International Airport",
           "HNL",
           31
          ],
          [
           "Dallas Love Field",
           "DAL",
           32
          ],
          [
           "Portland International Airport",
           "PDX",
           33
          ],
          [
           "St Louis Lambert International Airport",
           "STL",
           34
          ],
          [
           "William P Hobby Airport",
           "HOU",
           35
          ],
          [
           "Sacramento International Airport",
           "SMF",
           36
          ],
          [
           "Louis Armstrong New Orleans International Airport",
           "MSY",
           37
          ],
          [
           "Raleigh Durham International Airport",
           "RDU",
           38
          ],
          [
           "Norman Y. Mineta San Jose International Airport",
           "SJC",
           39
          ],
          [
           "John Wayne Airport-Orange County Airport",
           "SNA",
           40
          ],
          [
           "Metropolitan Oakland International Airport",
           "OAK",
           41
          ],
          [
           "Southwest Florida International Airport",
           "RSW",
           42
          ],
          [
           "Luis Munoz Marin International Airport",
           "SJU",
           43
          ],
          [
           "Kansas City International Airport",
           "MCI",
           44
          ],
          [
           "San Antonio International Airport",
           "SAT",
           45
          ],
          [
           "Cleveland Hopkins International Airport",
           "CLE",
           46
          ],
          [
           "Indianapolis International Airport",
           "IND",
           47
          ],
          [
           "Kahului Airport",
           "OGG",
           48
          ],
          [
           "Pittsburgh International Airport",
           "PIT",
           49
          ],
          [
           "Cincinnati Northern Kentucky International Airport",
           "CVG",
           50
          ],
          [
           "John Glenn Columbus International Airport",
           "CMH",
           51
          ],
          [
           "Palm Beach International Airport",
           "PBI",
           52
          ],
          [
           "Jacksonville International Airport",
           "JAX",
           53
          ],
          [
           "Bob Hope Airport",
           "BUR",
           54
          ],
          [
           "Bradley International Airport",
           "BDL",
           55
          ],
          [
           "Ontario International Airport",
           "ONT",
           56
          ],
          [
           "General Mitchell International Airport",
           "MKE",
           57
          ],
          [
           "Charleston International Airport",
           "CHS",
           58
          ],
          [
           "Ted Stevens Anchorage International Airport",
           "ANC",
           59
          ],
          [
           "Albuquerque International Sunport",
           "ABQ",
           60
          ],
          [
           "Boise Air Terminal/Gowen Field",
           "BOI",
           61
          ],
          [
           "Eppley Airfield",
           "OMA",
           62
          ],
          [
           "Memphis International Airport",
           "MEM",
           63
          ],
          [
           "Reno Tahoe International Airport",
           "RNO",
           64
          ],
          [
           "Norfolk International Airport",
           "ORF",
           65
          ],
          [
           "Richmond International Airport",
           "RIC",
           66
          ],
          [
           "Ellison Onizuka Kona International Airport at Keahole",
           "KOA",
           67
          ],
          [
           "Buffalo Niagara International Airport",
           "BUF",
           68
          ],
          [
           "Will Rogers World Airport",
           "OKC",
           69
          ],
          [
           "Sarasota Bradenton International Airport",
           "SRQ",
           70
          ],
          [
           "Spokane International Airport",
           "GEG",
           71
          ],
          [
           "Louisville Muhammad Ali International Airport",
           "SDF",
           72
          ],
          [
           "El Paso International Airport",
           "ELP",
           73
          ],
          [
           "Lihue Airport",
           "LIH",
           74
          ],
          [
           "Savannah Hilton Head International Airport",
           "SAV",
           75
          ],
          [
           "Gerald R. Ford International Airport",
           "GRR",
           76
          ],
          [
           "Myrtle Beach International Airport",
           "MYR",
           77
          ],
          [
           "Tucson International Airport / Morris Air National Guard Base",
           "TUS",
           78
          ],
          [
           "Long Beach Airport (Daugherty Field)",
           "LGB",
           79
          ],
          [
           "Theodore Francis Green State Airport",
           "PVD",
           80
          ],
          [
           "Palm Springs International Airport",
           "PSP",
           81
          ],
          [
           "Tulsa International Airport",
           "TUL",
           82
          ],
          [
           "Des Moines International Airport",
           "DSM",
           83
          ],
          [
           "Orlando Sanford International Airport",
           "SFB",
           84
          ],
          [
           "Birmingham-Shuttlesworth International Airport",
           "BHM",
           85
          ],
          [
           "Albany International Airport",
           "ALB",
           86
          ],
          [
           "Syracuse Hancock International Airport",
           "SYR",
           87
          ],
          [
           "Pensacola International Airport",
           "PNS",
           88
          ],
          [
           "McGhee Tyson Airport",
           "TYS",
           89
          ],
          [
           "St Petersburg Clearwater International Airport",
           "PIE",
           90
          ],
          [
           "Greater Rochester International Airport",
           "ROC",
           91
          ],
          [
           "Gallatin Field",
           "BZN",
           92
          ],
          [
           "Fresno Yosemite International Airport",
           "FAT",
           93
          ],
          [
           "City of Colorado Springs Municipal Airport",
           "COS",
           94
          ],
          [
           "Greenville Spartanburg International Airport",
           "GSP",
           95
          ],
          [
           "Destin-Fort Walton Beach Airport",
           "VPS",
           96
          ],
          [
           "Portland International Jetport",
           "PWM",
           97
          ],
          [
           "Bill & Hillary Clinton National Airport/Adams Field",
           "LIT",
           98
          ],
          [
           "Phoenix-Mesa-Gateway Airport",
           "AZA",
           99
          ],
          [
           "Charlotte County Airport",
           "PGD",
           100
          ],
          [
           "Asheville Regional Airport",
           "AVL",
           101
          ],
          [
           "Dane County Regional Truax Field",
           "MSN",
           102
          ],
          [
           "Westchester County Airport",
           "HPN",
           103
          ],
          [
           "Northwest Arkansas Regional Airport",
           "XNA",
           104
          ],
          [
           "Piedmont Triad International Airport",
           "GSO",
           105
          ],
          [
           "Mahlon Sweet Field",
           "EUG",
           106
          ],
          [
           "Wichita Eisenhower National Airport",
           "ICT",
           107
          ],
          [
           "Northwest Florida Beaches International Airport",
           "ECP",
           108
          ],
          [
           "Key West International Airport",
           "EYW",
           109
          ],
          [
           "Manchester-Boston Regional Airport",
           "MHT",
           110
          ],
          [
           "Hilo International Airport",
           "ITO",
           111
          ],
          [
           "Midland International Airport",
           "MAF",
           112
          ],
          [
           "Harrisburg International Airport",
           "MDT",
           113
          ],
          [
           "Long Island Mac Arthur Airport",
           "ISP",
           114
          ],
          [
           "Santa Barbara Municipal Airport",
           "SBA",
           115
          ],
          [
           "The Eastern Iowa Airport",
           "CID",
           116
          ],
          [
           "Sioux Falls Regional Airport / Joe Foss Field",
           "FSD",
           117
          ],
          [
           "Burlington International Airport",
           "BTV",
           118
          ],
          [
           "Jackson-Medgar Wiley Evers International Airport",
           "JAN",
           119
          ],
          [
           "Huntsville International Carl T Jones Field",
           "HSV",
           120
          ],
          [
           "Blue Grass Airport",
           "LEX",
           121
          ],
          [
           "James M Cox Dayton International Airport",
           "DAY",
           122
          ],
          [
           "Springfield Branson National Airport",
           "SGF",
           123
          ],
          [
           "Wilmington International Airport",
           "ILM",
           124
          ],
          [
           "Roberts Field",
           "RDM",
           125
          ],
          [
           "Rogue Valley International Medford Airport",
           "MFR",
           126
          ],
          [
           "Fairbanks International Airport",
           "FAI",
           127
          ],
          [
           "Columbia Metropolitan Airport",
           "CAE",
           128
          ],
          [
           "Lubbock Preston Smith International Airport",
           "LBB",
           129
          ],
          [
           "Hector International Airport",
           "FAR",
           130
          ],
          [
           "McAllen Miller International Airport",
           "MFE",
           131
          ],
          [
           "Valley International Airport",
           "HRL",
           132
          ],
          [
           "Chattanooga Metropolitan Airport (Lovell Field)",
           "CHA",
           133
          ],
          [
           "Missoula International Airport",
           "MSO",
           134
          ],
          [
           "Glacier Park International Airport",
           "FCA",
           135
          ],
          [
           "Lehigh Valley International Airport",
           "ABE",
           136
          ],
          [
           "Appleton International Airport",
           "ATW",
           137
          ],
          [
           "Atlantic City International Airport",
           "ACY",
           138
          ],
          [
           "Jackson Hole Airport",
           "JAC",
           139
          ],
          [
           "Tallahassee Regional Airport",
           "TLH",
           140
          ],
          [
           "Tri-Cities Regional TN/VA Airport",
           "TRI",
           141
          ],
          [
           "Billings Logan International Airport",
           "BIL",
           142
          ],
          [
           "Juneau International Airport",
           "JNU",
           143
          ],
          [
           "Rick Husband Amarillo International Airport",
           "AMA",
           144
          ],
          [
           "Fort Wayne International Airport",
           "FWA",
           145
          ],
          [
           "South Bend Regional Airport",
           "SBN",
           146
          ],
          [
           "Tweed New Haven Airport",
           "HVN",
           147
          ],
          [
           "Bangor International Airport",
           "BGR",
           148
          ],
          [
           "Rapid City Regional Airport",
           "RAP",
           149
          ],
          [
           "Trenton Mercer Airport",
           "TTN",
           150
          ],
          [
           "Baton Rouge Metropolitan Airport",
           "BTR",
           151
          ],
          [
           "Bellingham International Airport",
           "BLI",
           152
          ],
          [
           "Corpus Christi International Airport",
           "CRP",
           153
          ],
          [
           "Idaho Falls Regional Airport",
           "IDA",
           154
          ],
          [
           "Charles M. Schulz Sonoma County Airport",
           "STS",
           155
          ],
          [
           "Aspen-Pitkin Co/Sardy Field",
           "ASE",
           156
          ],
          [
           "Bishop International Airport",
           "FNT",
           157
          ],
          [
           "Roanoke–Blacksburg Regional Airport",
           "ROA",
           158
          ],
          [
           "Austin Straubel International Airport",
           "GRB",
           159
          ],
          [
           "Cherry Capital Airport",
           "TVC",
           160
          ],
          [
           "General Wayne A. Downing Peoria International Airport",
           "PIA",
           161
          ],
          [
           "Daytona Beach International Airport",
           "DAB",
           162
          ],
          [
           "San Luis County Regional Airport",
           "SBP",
           163
          ],
          [
           "Shreveport Regional Airport",
           "SHV",
           164
          ],
          [
           "Quad City International Airport",
           "MLI",
           165
          ],
          [
           "Augusta Regional At Bush Field",
           "AGS",
           166
          ],
          [
           "Akron Canton Regional Airport",
           "CAK",
           167
          ],
          [
           "Gainesville Regional Airport",
           "GNV",
           168
          ],
          [
           "Mobile Regional Airport",
           "MOB",
           169
          ],
          [
           "Snohomish County (Paine Field) Airport",
           "PAE",
           170
          ],
          [
           "Charlottesville Albemarle Airport",
           "CHO",
           171
          ],
          [
           "Gulfport Biloxi International Airport",
           "GPT",
           172
          ],
          [
           "Bismarck Municipal Airport",
           "BIS",
           173
          ],
          [
           "Montrose Regional Airport",
           "MTJ",
           174
          ],
          [
           "Lafayette Regional Airport",
           "LFT",
           175
          ],
          [
           "Monterey Peninsula Airport",
           "MRY",
           176
          ],
          [
           "Grand Junction Regional Airport",
           "GJT",
           177
          ],
          [
           "Melbourne International Airport",
           "MLB",
           178
          ],
          [
           "Eagle County Regional Airport",
           "EGE",
           179
          ],
          [
           "Provo-Utah Lake International Airport",
           "PVU",
           180
          ],
          [
           "Yampa Valley Airport",
           "HDN",
           181
          ],
          [
           "Tri Cities Airport",
           "PSC",
           182
          ],
          [
           "Wilkes Barre Scranton International Airport",
           "AVP",
           183
          ],
          [
           "Durango La Plata County Airport",
           "DRO",
           184
          ],
          [
           "Central Illinois Regional Airport at Bloomington-Normal",
           "BMI",
           185
          ],
          [
           "Fayetteville Regional Airport - Grannis Field",
           "FAY",
           186
          ],
          [
           "Yeager Airport",
           "CRW",
           187
          ],
          [
           "Scott AFB/Midamerica Airport",
           "BLV",
           188
          ],
          [
           "Evansville Regional Airport",
           "EVV",
           189
          ],
          [
           "Montgomery Regional (Dannelly Field) Airport",
           "MGM",
           190
          ],
          [
           "New York Stewart International Airport",
           "SWF",
           191
          ],
          [
           "Rickenbacker International Airport",
           "LCK",
           192
          ],
          [
           "Ketchikan International Airport",
           "KTN",
           193
          ],
          [
           "Great Falls International Airport",
           "GTF",
           194
          ],
          [
           "Meadows Field",
           "BFL",
           195
          ],
          [
           "Minot International Airport",
           "MOT",
           196
          ],
          [
           "Albert J Ellis Airport",
           "OAJ",
           197
          ],
          [
           "Nantucket Memorial Airport",
           "ACK",
           198
          ],
          [
           "Bethel Airport",
           "BET",
           199
          ],
          [
           "Saint George-Southwest Utah International Airport",
           "SGU",
           200
          ]
         ],
         "hovertemplate": "Elevation=%{x}<br>Delays=%{y}<br>Airport=%{customdata[0]}<br>IATA=%{customdata[1]}<br>2022 Rank=%{customdata[2]}<extra></extra>",
         "legendgroup": "",
         "marker": {
          "color": "#4b7b9b",
          "line": {
           "color": "#00204e",
           "width": 2
          },
          "size": 10,
          "symbol": "circle"
         },
         "mode": "markers",
         "name": "",
         "orientation": "v",
         "showlegend": false,
         "type": "scatter",
         "x": [
          1026,
          607,
          5431,
          672,
          125,
          13,
          2181,
          96,
          8,
          748,
          433,
          1135,
          18,
          13,
          97,
          20,
          9,
          841,
          21,
          645,
          36,
          4227,
          15,
          17,
          146,
          26,
          542,
          312,
          599,
          620,
          13,
          487,
          31,
          618,
          46,
          27,
          4,
          435,
          62,
          56,
          9,
          30,
          9,
          1026,
          809,
          791,
          797,
          54,
          1203,
          896,
          815,
          19,
          30,
          778,
          173,
          944,
          723,
          46,
          152,
          5355,
          2871,
          984,
          341,
          4415,
          26,
          167,
          47,
          728,
          1295,
          30,
          2376,
          501,
          3959,
          153,
          50,
          794,
          25,
          2643,
          60,
          55,
          477,
          677,
          958,
          55,
          650,
          285,
          421,
          121,
          981,
          11,
          559,
          4473,
          336,
          6187,
          964,
          87,
          76,
          262,
          1382,
          26,
          2165,
          887,
          439,
          1287,
          925,
          374,
          1333,
          69,
          3,
          266,
          38,
          2871,
          310,
          99,
          13,
          869,
          1429,
          335,
          346,
          629,
          979,
          1009,
          1268,
          32,
          3080,
          1335,
          439,
          236,
          3282,
          902,
          107,
          36,
          683,
          3206,
          2977,
          393,
          918,
          75,
          6451,
          81,
          1519,
          3652,
          21,
          3607,
          814,
          799,
          12,
          192,
          3204,
          213,
          70,
          170,
          44,
          4744,
          128,
          7820,
          782,
          1175,
          695,
          624,
          660,
          34,
          212,
          258,
          590,
          144,
          1228,
          152,
          219,
          606,
          639,
          28,
          1661,
          5759,
          42,
          257,
          4858,
          33,
          6548,
          4497,
          6606,
          410,
          962,
          6685,
          871,
          189,
          981,
          459,
          418,
          221,
          491,
          744,
          89,
          3680,
          510,
          1716,
          94,
          47,
          126,
          2941
         ],
         "xaxis": "x",
         "y": [
          0.168,
          0.223,
          0.226,
          0.228,
          0.185,
          0.186,
          0.1969999999999999,
          0.215,
          0.192,
          0.195,
          0.1669999999999999,
          0.188,
          0.249,
          0.214,
          0.193,
          0.207,
          0.222,
          0.15,
          0.225,
          0.161,
          0.178,
          0.134,
          0.18,
          0.1689999999999999,
          0.203,
          0.18,
          0.176,
          0.157,
          0.1939999999999999,
          0.263,
          0.1,
          0.235,
          0.123,
          0.216,
          0.245,
          0.141,
          0.192,
          0.187,
          0.142,
          0.15,
          0.193,
          0.177,
          0.209,
          0.158,
          0.154,
          0.1689999999999999,
          0.157,
          0.107,
          0.151,
          0.181,
          0.155,
          0.206,
          0.159,
          0.161,
          0.151,
          0.152,
          0.159,
          0.1639999999999999,
          0.0969999999999999,
          0.162,
          0.121,
          0.161,
          0.165,
          0.14,
          0.175,
          0.166,
          0.085,
          0.1639999999999999,
          0.1689999999999999,
          0.176,
          0.123,
          0.162,
          0.158,
          0.093,
          0.178,
          0.1689999999999999,
          0.1889999999999999,
          0.141,
          0.128,
          0.165,
          0.176,
          0.148,
          0.15,
          0.158,
          0.173,
          0.163,
          0.156,
          0.16,
          0.163,
          0.1369999999999999,
          0.174,
          0.16,
          0.157,
          0.1939999999999999,
          0.17,
          0.168,
          0.181,
          0.159,
          0.21,
          0.155,
          0.176,
          0.165,
          0.218,
          0.178,
          0.1639999999999999,
          0.15,
          0.171,
          0.143,
          0.1689999999999999,
          0.121,
          0.0579999999999999,
          0.15,
          0.174,
          0.151,
          0.171,
          0.1889999999999999,
          0.178,
          0.193,
          0.1669999999999999,
          0.15,
          0.158,
          0.1639999999999999,
          0.196,
          0.17,
          0.183,
          0.187,
          0.081,
          0.145,
          0.154,
          0.188,
          0.158,
          0.153,
          0.1639999999999999,
          0.161,
          0.094,
          0.166,
          0.1689999999999999,
          0.105,
          0.203,
          0.124,
          0.156,
          0.124,
          0.118,
          0.155,
          0.178,
          0.201,
          0.123,
          0.214,
          0.178,
          0.238,
          0.146,
          0.084,
          0.146,
          0.096,
          0.138,
          0.257,
          0.155,
          0.172,
          0.151,
          0.198,
          0.165,
          0.136,
          0.1989999999999999,
          0.179,
          0.168,
          0.177,
          0.18,
          0.1669999999999999,
          0.171,
          0.151,
          0.2019999999999999,
          0.14,
          0.161,
          0.2019999999999999,
          0.159,
          0.145,
          0.106,
          0.131,
          0.237,
          0.204,
          0.231,
          0.136,
          0.139,
          0.182,
          0.157,
          0.178,
          0.196,
          0.26,
          0.165,
          0.187,
          0.266,
          0.257,
          0.111,
          0.089,
          0.111,
          0.132,
          0.155,
          0.268,
          0.129,
          0.1169999999999999
         ],
         "yaxis": "y"
        },
        {
         "hovertemplate": "<b>OLS trendline</b><br>Delays = 1.81699e-06 * Elevation + 0.165877<br>R<sup>2</sup>=0.006000<br><br>Elevation=%{x}<br>Delays=%{y} <b>(trend)</b><extra></extra>",
         "legendgroup": "",
         "line": {
          "color": "#00204e"
         },
         "marker": {
          "color": "#4b7b9b",
          "symbol": "circle"
         },
         "mode": "lines",
         "name": "",
         "showlegend": false,
         "type": "scatter",
         "x": [
          3,
          4,
          8,
          9,
          9,
          9,
          11,
          12,
          13,
          13,
          13,
          13,
          15,
          17,
          18,
          19,
          20,
          21,
          21,
          25,
          26,
          26,
          26,
          27,
          28,
          30,
          30,
          30,
          31,
          32,
          33,
          34,
          36,
          36,
          38,
          42,
          44,
          46,
          46,
          47,
          47,
          50,
          54,
          55,
          55,
          56,
          60,
          62,
          69,
          70,
          75,
          76,
          81,
          87,
          89,
          94,
          96,
          97,
          99,
          107,
          121,
          125,
          126,
          128,
          144,
          146,
          152,
          152,
          153,
          167,
          170,
          173,
          189,
          192,
          212,
          213,
          219,
          221,
          236,
          257,
          258,
          262,
          266,
          285,
          310,
          312,
          335,
          336,
          341,
          346,
          374,
          393,
          410,
          418,
          421,
          433,
          435,
          439,
          439,
          459,
          477,
          487,
          491,
          501,
          510,
          542,
          559,
          590,
          599,
          606,
          607,
          618,
          620,
          624,
          629,
          639,
          645,
          650,
          660,
          672,
          677,
          683,
          695,
          723,
          728,
          744,
          748,
          778,
          782,
          791,
          794,
          797,
          799,
          809,
          814,
          815,
          841,
          869,
          871,
          887,
          896,
          902,
          918,
          925,
          944,
          958,
          962,
          964,
          979,
          981,
          981,
          984,
          1009,
          1026,
          1026,
          1135,
          1175,
          1203,
          1228,
          1268,
          1287,
          1295,
          1333,
          1335,
          1382,
          1429,
          1519,
          1661,
          1716,
          2165,
          2181,
          2376,
          2643,
          2871,
          2871,
          2941,
          2977,
          3080,
          3204,
          3206,
          3282,
          3607,
          3652,
          3680,
          3959,
          4227,
          4415,
          4473,
          4497,
          4744,
          4858,
          5355,
          5431,
          5759,
          6187,
          6451,
          6548,
          6606,
          6685,
          7820
         ],
         "xaxis": "x",
         "y": [
          0.16588213331213786,
          0.16588395029744266,
          0.1658912182386619,
          0.16589303522396673,
          0.16589303522396673,
          0.16589303522396673,
          0.16589666919457635,
          0.16589848617988115,
          0.16590030316518597,
          0.16590030316518597,
          0.16590030316518597,
          0.16590030316518597,
          0.1659039371357956,
          0.16590757110640522,
          0.16590938809171005,
          0.16591120507701484,
          0.16591302206231967,
          0.16591483904762447,
          0.16591483904762447,
          0.16592210698884372,
          0.16592392397414854,
          0.16592392397414854,
          0.16592392397414854,
          0.16592574095945334,
          0.16592755794475816,
          0.1659311919153678,
          0.1659311919153678,
          0.1659311919153678,
          0.1659330089006726,
          0.1659348258859774,
          0.16593664287128224,
          0.16593845985658703,
          0.16594209382719666,
          0.16594209382719666,
          0.16594572779780628,
          0.16595299573902553,
          0.16595662970963518,
          0.1659602636802448,
          0.1659602636802448,
          0.1659620806655496,
          0.1659620806655496,
          0.16596753162146405,
          0.1659747995626833,
          0.1659766165479881,
          0.1659766165479881,
          0.16597843353329292,
          0.16598570147451217,
          0.1659893354451218,
          0.16600205434225548,
          0.16600387132756028,
          0.16601295625408435,
          0.16601477323938918,
          0.16602385816591322,
          0.16603476007774212,
          0.16603839404835175,
          0.1660474789748758,
          0.1660511129454854,
          0.16605292993079024,
          0.16605656390139986,
          0.16607109978383836,
          0.16609653757810575,
          0.166103805519325,
          0.1661056225046298,
          0.16610925647523944,
          0.16613832824011643,
          0.16614196221072605,
          0.16615286412255492,
          0.16615286412255492,
          0.16615468110785975,
          0.1661801189021271,
          0.16618556985804156,
          0.166191020813956,
          0.166220092578833,
          0.16622554353474744,
          0.1662618832408437,
          0.1662637002261485,
          0.16627460213797737,
          0.166278236108587,
          0.16630549088815919,
          0.16634364757956027,
          0.16634546456486507,
          0.16635273250608432,
          0.16636000044730356,
          0.16639452316809503,
          0.16643994780071533,
          0.16644358177132496,
          0.16648537243333564,
          0.16648718941864046,
          0.16649627434516454,
          0.16650535927168858,
          0.16655623486022333,
          0.16659075758101477,
          0.1666216463311966,
          0.1666361822136351,
          0.16664163316954952,
          0.1666634369932073,
          0.16666707096381692,
          0.16667433890503616,
          0.16667433890503616,
          0.16671067861113242,
          0.16674338434661903,
          0.16676155419966718,
          0.16676882214088642,
          0.16678699199393454,
          0.16680334486167786,
          0.16686148839143186,
          0.16689237714161367,
          0.16694870368606288,
          0.1669650565538062,
          0.16697777545093986,
          0.1669795924362447,
          0.16699957927459763,
          0.16700321324520725,
          0.1670104811864265,
          0.16701956611295057,
          0.1670377359659987,
          0.16704863787782756,
          0.16705772280435163,
          0.16707589265739975,
          0.16709769648105752,
          0.16710678140758156,
          0.16711768331941046,
          0.1671394871430682,
          0.16719036273160295,
          0.16719944765812703,
          0.167228519423004,
          0.1672357873642233,
          0.16729029692336767,
          0.1672975648645869,
          0.16731391773233023,
          0.16731936868824465,
          0.1673248196441591,
          0.16732845361476872,
          0.16734662346781684,
          0.1673557083943409,
          0.1673575253796457,
          0.16740476699757084,
          0.1674556425861056,
          0.16745927655671522,
          0.16748834832159223,
          0.16750470118933555,
          0.16751560310116442,
          0.16754467486604144,
          0.1675573937631751,
          0.16759191648396654,
          0.16761735427823393,
          0.16762462221945318,
          0.1676282561900628,
          0.167655510969635,
          0.16765914494024461,
          0.16765914494024461,
          0.16766459589615906,
          0.16771002052877937,
          0.16774090927896118,
          0.16774090927896118,
          0.16793896067718578,
          0.16801164008937827,
          0.16806251567791303,
          0.16810794031053336,
          0.16818061972272585,
          0.1682151424435173,
          0.16822967832595578,
          0.16829872376753868,
          0.1683023577381483,
          0.1683877560474745,
          0.1684731543568007,
          0.16863668303423382,
          0.16889469494751722,
          0.16899462913928193,
          0.1698104555411428,
          0.1698395273060198,
          0.17019383944045827,
          0.17067897451684325,
          0.17109324716634053,
          0.17109324716634053,
          0.17122043613767743,
          0.17128584760865068,
          0.17147299709504638,
          0.17169830327284316,
          0.17170193724345278,
          0.17184002812661853,
          0.17243054835068264,
          0.1725123126893992,
          0.17256318827793396,
          0.1730701271779767,
          0.17355707923966648,
          0.17389867247697127,
          0.1740040576246504,
          0.1740476652719659,
          0.17449646064225463,
          0.17470359696700327,
          0.17560663866349516,
          0.17574472954666093,
          0.1763407007266395,
          0.1771183704370993,
          0.17759805455756983,
          0.17777430213213666,
          0.1778796872798158,
          0.17802322911889598,
          0.18008550743985835
         ],
         "yaxis": "y"
        }
       ],
       "layout": {
        "height": 650,
        "legend": {
         "tracegroupgap": 0
        },
        "margin": {
         "t": 60
        },
        "template": {
         "data": {
          "bar": [
           {
            "error_x": {
             "color": "#2a3f5f"
            },
            "error_y": {
             "color": "#2a3f5f"
            },
            "marker": {
             "line": {
              "color": "#E5ECF6",
              "width": 0.5
             },
             "pattern": {
              "fillmode": "overlay",
              "size": 10,
              "solidity": 0.2
             }
            },
            "type": "bar"
           }
          ],
          "barpolar": [
           {
            "marker": {
             "line": {
              "color": "#E5ECF6",
              "width": 0.5
             },
             "pattern": {
              "fillmode": "overlay",
              "size": 10,
              "solidity": 0.2
             }
            },
            "type": "barpolar"
           }
          ],
          "carpet": [
           {
            "aaxis": {
             "endlinecolor": "#2a3f5f",
             "gridcolor": "white",
             "linecolor": "white",
             "minorgridcolor": "white",
             "startlinecolor": "#2a3f5f"
            },
            "baxis": {
             "endlinecolor": "#2a3f5f",
             "gridcolor": "white",
             "linecolor": "white",
             "minorgridcolor": "white",
             "startlinecolor": "#2a3f5f"
            },
            "type": "carpet"
           }
          ],
          "choropleth": [
           {
            "colorbar": {
             "outlinewidth": 0,
             "ticks": ""
            },
            "type": "choropleth"
           }
          ],
          "contour": [
           {
            "colorbar": {
             "outlinewidth": 0,
             "ticks": ""
            },
            "colorscale": [
             [
              0,
              "#0d0887"
             ],
             [
              0.1111111111111111,
              "#46039f"
             ],
             [
              0.2222222222222222,
              "#7201a8"
             ],
             [
              0.3333333333333333,
              "#9c179e"
             ],
             [
              0.4444444444444444,
              "#bd3786"
             ],
             [
              0.5555555555555556,
              "#d8576b"
             ],
             [
              0.6666666666666666,
              "#ed7953"
             ],
             [
              0.7777777777777778,
              "#fb9f3a"
             ],
             [
              0.8888888888888888,
              "#fdca26"
             ],
             [
              1,
              "#f0f921"
             ]
            ],
            "type": "contour"
           }
          ],
          "contourcarpet": [
           {
            "colorbar": {
             "outlinewidth": 0,
             "ticks": ""
            },
            "type": "contourcarpet"
           }
          ],
          "heatmap": [
           {
            "colorbar": {
             "outlinewidth": 0,
             "ticks": ""
            },
            "colorscale": [
             [
              0,
              "#0d0887"
             ],
             [
              0.1111111111111111,
              "#46039f"
             ],
             [
              0.2222222222222222,
              "#7201a8"
             ],
             [
              0.3333333333333333,
              "#9c179e"
             ],
             [
              0.4444444444444444,
              "#bd3786"
             ],
             [
              0.5555555555555556,
              "#d8576b"
             ],
             [
              0.6666666666666666,
              "#ed7953"
             ],
             [
              0.7777777777777778,
              "#fb9f3a"
             ],
             [
              0.8888888888888888,
              "#fdca26"
             ],
             [
              1,
              "#f0f921"
             ]
            ],
            "type": "heatmap"
           }
          ],
          "heatmapgl": [
           {
            "colorbar": {
             "outlinewidth": 0,
             "ticks": ""
            },
            "colorscale": [
             [
              0,
              "#0d0887"
             ],
             [
              0.1111111111111111,
              "#46039f"
             ],
             [
              0.2222222222222222,
              "#7201a8"
             ],
             [
              0.3333333333333333,
              "#9c179e"
             ],
             [
              0.4444444444444444,
              "#bd3786"
             ],
             [
              0.5555555555555556,
              "#d8576b"
             ],
             [
              0.6666666666666666,
              "#ed7953"
             ],
             [
              0.7777777777777778,
              "#fb9f3a"
             ],
             [
              0.8888888888888888,
              "#fdca26"
             ],
             [
              1,
              "#f0f921"
             ]
            ],
            "type": "heatmapgl"
           }
          ],
          "histogram": [
           {
            "marker": {
             "pattern": {
              "fillmode": "overlay",
              "size": 10,
              "solidity": 0.2
             }
            },
            "type": "histogram"
           }
          ],
          "histogram2d": [
           {
            "colorbar": {
             "outlinewidth": 0,
             "ticks": ""
            },
            "colorscale": [
             [
              0,
              "#0d0887"
             ],
             [
              0.1111111111111111,
              "#46039f"
             ],
             [
              0.2222222222222222,
              "#7201a8"
             ],
             [
              0.3333333333333333,
              "#9c179e"
             ],
             [
              0.4444444444444444,
              "#bd3786"
             ],
             [
              0.5555555555555556,
              "#d8576b"
             ],
             [
              0.6666666666666666,
              "#ed7953"
             ],
             [
              0.7777777777777778,
              "#fb9f3a"
             ],
             [
              0.8888888888888888,
              "#fdca26"
             ],
             [
              1,
              "#f0f921"
             ]
            ],
            "type": "histogram2d"
           }
          ],
          "histogram2dcontour": [
           {
            "colorbar": {
             "outlinewidth": 0,
             "ticks": ""
            },
            "colorscale": [
             [
              0,
              "#0d0887"
             ],
             [
              0.1111111111111111,
              "#46039f"
             ],
             [
              0.2222222222222222,
              "#7201a8"
             ],
             [
              0.3333333333333333,
              "#9c179e"
             ],
             [
              0.4444444444444444,
              "#bd3786"
             ],
             [
              0.5555555555555556,
              "#d8576b"
             ],
             [
              0.6666666666666666,
              "#ed7953"
             ],
             [
              0.7777777777777778,
              "#fb9f3a"
             ],
             [
              0.8888888888888888,
              "#fdca26"
             ],
             [
              1,
              "#f0f921"
             ]
            ],
            "type": "histogram2dcontour"
           }
          ],
          "mesh3d": [
           {
            "colorbar": {
             "outlinewidth": 0,
             "ticks": ""
            },
            "type": "mesh3d"
           }
          ],
          "parcoords": [
           {
            "line": {
             "colorbar": {
              "outlinewidth": 0,
              "ticks": ""
             }
            },
            "type": "parcoords"
           }
          ],
          "pie": [
           {
            "automargin": true,
            "type": "pie"
           }
          ],
          "scatter": [
           {
            "fillpattern": {
             "fillmode": "overlay",
             "size": 10,
             "solidity": 0.2
            },
            "type": "scatter"
           }
          ],
          "scatter3d": [
           {
            "line": {
             "colorbar": {
              "outlinewidth": 0,
              "ticks": ""
             }
            },
            "marker": {
             "colorbar": {
              "outlinewidth": 0,
              "ticks": ""
             }
            },
            "type": "scatter3d"
           }
          ],
          "scattercarpet": [
           {
            "marker": {
             "colorbar": {
              "outlinewidth": 0,
              "ticks": ""
             }
            },
            "type": "scattercarpet"
           }
          ],
          "scattergeo": [
           {
            "marker": {
             "colorbar": {
              "outlinewidth": 0,
              "ticks": ""
             }
            },
            "type": "scattergeo"
           }
          ],
          "scattergl": [
           {
            "marker": {
             "colorbar": {
              "outlinewidth": 0,
              "ticks": ""
             }
            },
            "type": "scattergl"
           }
          ],
          "scattermapbox": [
           {
            "marker": {
             "colorbar": {
              "outlinewidth": 0,
              "ticks": ""
             }
            },
            "type": "scattermapbox"
           }
          ],
          "scatterpolar": [
           {
            "marker": {
             "colorbar": {
              "outlinewidth": 0,
              "ticks": ""
             }
            },
            "type": "scatterpolar"
           }
          ],
          "scatterpolargl": [
           {
            "marker": {
             "colorbar": {
              "outlinewidth": 0,
              "ticks": ""
             }
            },
            "type": "scatterpolargl"
           }
          ],
          "scatterternary": [
           {
            "marker": {
             "colorbar": {
              "outlinewidth": 0,
              "ticks": ""
             }
            },
            "type": "scatterternary"
           }
          ],
          "surface": [
           {
            "colorbar": {
             "outlinewidth": 0,
             "ticks": ""
            },
            "colorscale": [
             [
              0,
              "#0d0887"
             ],
             [
              0.1111111111111111,
              "#46039f"
             ],
             [
              0.2222222222222222,
              "#7201a8"
             ],
             [
              0.3333333333333333,
              "#9c179e"
             ],
             [
              0.4444444444444444,
              "#bd3786"
             ],
             [
              0.5555555555555556,
              "#d8576b"
             ],
             [
              0.6666666666666666,
              "#ed7953"
             ],
             [
              0.7777777777777778,
              "#fb9f3a"
             ],
             [
              0.8888888888888888,
              "#fdca26"
             ],
             [
              1,
              "#f0f921"
             ]
            ],
            "type": "surface"
           }
          ],
          "table": [
           {
            "cells": {
             "fill": {
              "color": "#EBF0F8"
             },
             "line": {
              "color": "white"
             }
            },
            "header": {
             "fill": {
              "color": "#C8D4E3"
             },
             "line": {
              "color": "white"
             }
            },
            "type": "table"
           }
          ]
         },
         "layout": {
          "annotationdefaults": {
           "arrowcolor": "#2a3f5f",
           "arrowhead": 0,
           "arrowwidth": 1
          },
          "autotypenumbers": "strict",
          "coloraxis": {
           "colorbar": {
            "outlinewidth": 0,
            "ticks": ""
           }
          },
          "colorscale": {
           "diverging": [
            [
             0,
             "#8e0152"
            ],
            [
             0.1,
             "#c51b7d"
            ],
            [
             0.2,
             "#de77ae"
            ],
            [
             0.3,
             "#f1b6da"
            ],
            [
             0.4,
             "#fde0ef"
            ],
            [
             0.5,
             "#f7f7f7"
            ],
            [
             0.6,
             "#e6f5d0"
            ],
            [
             0.7,
             "#b8e186"
            ],
            [
             0.8,
             "#7fbc41"
            ],
            [
             0.9,
             "#4d9221"
            ],
            [
             1,
             "#276419"
            ]
           ],
           "sequential": [
            [
             0,
             "#0d0887"
            ],
            [
             0.1111111111111111,
             "#46039f"
            ],
            [
             0.2222222222222222,
             "#7201a8"
            ],
            [
             0.3333333333333333,
             "#9c179e"
            ],
            [
             0.4444444444444444,
             "#bd3786"
            ],
            [
             0.5555555555555556,
             "#d8576b"
            ],
            [
             0.6666666666666666,
             "#ed7953"
            ],
            [
             0.7777777777777778,
             "#fb9f3a"
            ],
            [
             0.8888888888888888,
             "#fdca26"
            ],
            [
             1,
             "#f0f921"
            ]
           ],
           "sequentialminus": [
            [
             0,
             "#0d0887"
            ],
            [
             0.1111111111111111,
             "#46039f"
            ],
            [
             0.2222222222222222,
             "#7201a8"
            ],
            [
             0.3333333333333333,
             "#9c179e"
            ],
            [
             0.4444444444444444,
             "#bd3786"
            ],
            [
             0.5555555555555556,
             "#d8576b"
            ],
            [
             0.6666666666666666,
             "#ed7953"
            ],
            [
             0.7777777777777778,
             "#fb9f3a"
            ],
            [
             0.8888888888888888,
             "#fdca26"
            ],
            [
             1,
             "#f0f921"
            ]
           ]
          },
          "colorway": [
           "#636efa",
           "#EF553B",
           "#00cc96",
           "#ab63fa",
           "#FFA15A",
           "#19d3f3",
           "#FF6692",
           "#B6E880",
           "#FF97FF",
           "#FECB52"
          ],
          "font": {
           "color": "#2a3f5f"
          },
          "geo": {
           "bgcolor": "white",
           "lakecolor": "white",
           "landcolor": "#E5ECF6",
           "showlakes": true,
           "showland": true,
           "subunitcolor": "white"
          },
          "hoverlabel": {
           "align": "left"
          },
          "hovermode": "closest",
          "mapbox": {
           "style": "light"
          },
          "paper_bgcolor": "white",
          "plot_bgcolor": "#E5ECF6",
          "polar": {
           "angularaxis": {
            "gridcolor": "white",
            "linecolor": "white",
            "ticks": ""
           },
           "bgcolor": "#E5ECF6",
           "radialaxis": {
            "gridcolor": "white",
            "linecolor": "white",
            "ticks": ""
           }
          },
          "scene": {
           "xaxis": {
            "backgroundcolor": "#E5ECF6",
            "gridcolor": "white",
            "gridwidth": 2,
            "linecolor": "white",
            "showbackground": true,
            "ticks": "",
            "zerolinecolor": "white"
           },
           "yaxis": {
            "backgroundcolor": "#E5ECF6",
            "gridcolor": "white",
            "gridwidth": 2,
            "linecolor": "white",
            "showbackground": true,
            "ticks": "",
            "zerolinecolor": "white"
           },
           "zaxis": {
            "backgroundcolor": "#E5ECF6",
            "gridcolor": "white",
            "gridwidth": 2,
            "linecolor": "white",
            "showbackground": true,
            "ticks": "",
            "zerolinecolor": "white"
           }
          },
          "shapedefaults": {
           "line": {
            "color": "#2a3f5f"
           }
          },
          "ternary": {
           "aaxis": {
            "gridcolor": "white",
            "linecolor": "white",
            "ticks": ""
           },
           "baxis": {
            "gridcolor": "white",
            "linecolor": "white",
            "ticks": ""
           },
           "bgcolor": "#E5ECF6",
           "caxis": {
            "gridcolor": "white",
            "linecolor": "white",
            "ticks": ""
           }
          },
          "title": {
           "x": 0.05
          },
          "xaxis": {
           "automargin": true,
           "gridcolor": "white",
           "linecolor": "white",
           "ticks": "",
           "title": {
            "standoff": 15
           },
           "zerolinecolor": "white",
           "zerolinewidth": 2
          },
          "yaxis": {
           "automargin": true,
           "gridcolor": "white",
           "linecolor": "white",
           "ticks": "",
           "title": {
            "standoff": 15
           },
           "zerolinecolor": "white",
           "zerolinewidth": 2
          }
         }
        },
        "title": {
         "text": "Top 200 Airports 2022: Delays vs. Elevation Insights"
        },
        "width": 800,
        "xaxis": {
         "anchor": "y",
         "domain": [
          0,
          1
         ],
         "title": {
          "text": "Elevation (feet)"
         }
        },
        "yaxis": {
         "anchor": "x",
         "domain": [
          0,
          1
         ],
         "title": {
          "text": "Delays (2022 proportion)"
         }
        }
       }
      }
     },
     "metadata": {},
     "output_type": "display_data"
    }
   ],
   "source": [
    "fig = px.scatter(airports, x='Elevation', y='Delays', \n",
    "                 color_discrete_sequence=['#4b7b9b',], #color_discrete_sequence=px.colors.sequential.Cividis,\n",
    "                 hover_data={'Airport': True, 'IATA': True, '2022 Rank': True, 'Elevation': True, 'Delays': True},\n",
    "                 trendline='ols',\n",
    "                 trendline_color_override='#00204e')\n",
    "fig.update_traces(marker=dict(size=10,line=dict(width=2, color='#00204e')),\n",
    "                  selector=dict(mode='markers'))\n",
    "fig.update_layout(title='Top 200 Airports 2022: Delays vs. Elevation Insights',\n",
    "                  xaxis_title='Elevation (feet)',\n",
    "                  yaxis_title='Delays (2022 proportion)',\n",
    "                  height=650,\n",
    "                  width=800)\n",
    "\n",
    "fig.show()"
   ]
  },
  {
   "cell_type": "markdown",
   "metadata": {},
   "source": [
    "### Bar Chart"
   ]
  },
  {
   "cell_type": "code",
   "execution_count": null,
   "metadata": {},
   "outputs": [],
   "source": []
  }
 ],
 "metadata": {
  "kernelspec": {
   "display_name": "stat386",
   "language": "python",
   "name": "python3"
  },
  "language_info": {
   "codemirror_mode": {
    "name": "ipython",
    "version": 3
   },
   "file_extension": ".py",
   "mimetype": "text/x-python",
   "name": "python",
   "nbconvert_exporter": "python",
   "pygments_lexer": "ipython3",
   "version": "3.10.12"
  }
 },
 "nbformat": 4,
 "nbformat_minor": 2
}
